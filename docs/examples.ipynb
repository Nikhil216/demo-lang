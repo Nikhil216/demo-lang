{
 "cells": [
  {
   "cell_type": "code",
   "execution_count": 1,
   "metadata": {},
   "outputs": [],
   "source": [
    "import demo_lang"
   ]
  },
  {
   "cell_type": "code",
   "execution_count": null,
   "metadata": {},
   "outputs": [],
   "source": [
    "%load_ext demo_lang"
   ]
  },
  {
   "cell_type": "markdown",
   "metadata": {},
   "source": [
    "The following examples are from python-mip's [Modeling Examples](https://python-mip.readthedocs.io/en/latest/examples.html) rewritten in demo lang."
   ]
  },
  {
   "cell_type": "markdown",
   "metadata": {},
   "source": [
    "## The 0/1 Knapsack Problem"
   ]
  },
  {
   "cell_type": "code",
   "execution_count": 2,
   "metadata": {},
   "outputs": [],
   "source": [
    "p = [10, 13, 18, 31, 7, 15]\n",
    "w = [11, 15, 20, 35, 10, 33]\n",
    "c = 47\n",
    "n = len(w)"
   ]
  },
  {
   "cell_type": "code",
   "execution_count": 4,
   "metadata": {},
   "outputs": [
    {
     "data": {
      "text/plain": [
       "<mip.model.Model at 0x258a94d6230>"
      ]
     },
     "execution_count": 4,
     "metadata": {},
     "output_type": "execute_result"
    }
   ],
   "source": [
    "%%demo Knapsack Problem\n",
    "\n",
    "var bin x = ndarray (n)\n",
    "obj max sum (i:=n) p[i] * x[i]\n",
    "constr (sum (i:=n) w[i] * x[i]) <= c"
   ]
  },
  {
   "cell_type": "code",
   "execution_count": 6,
   "metadata": {},
   "outputs": [
    {
     "name": "stdout",
     "output_type": "stream",
     "text": [
      "selected items: [0, 3]\n"
     ]
    }
   ],
   "source": [
    "selected = [i for i in range(n) if x[i].x >= 0.99]\n",
    "print(\"selected items: {}\".format(selected))"
   ]
  },
  {
   "cell_type": "markdown",
   "metadata": {},
   "source": [
    "## The Traveling Salesman Problem"
   ]
  },
  {
   "cell_type": "code",
   "execution_count": 7,
   "metadata": {},
   "outputs": [],
   "source": [
    "# names of places to visit\n",
    "places = ['Antwerp', 'Bruges', 'C-Mine', 'Dinant', 'Ghent',\n",
    "          'Grand-Place de Bruxelles', 'Hasselt', 'Leuven',\n",
    "          'Mechelen', 'Mons', 'Montagne de Bueren', 'Namur',\n",
    "          'Remouchamps', 'Waterloo']\n",
    "\n",
    "# distances in an upper triangular matrix\n",
    "dists = [[83, 81, 113, 52, 42, 73, 44, 23, 91, 105, 90, 124, 57],\n",
    "         [161, 160, 39, 89, 151, 110, 90, 99, 177, 143, 193, 100],\n",
    "         [90, 125, 82, 13, 57, 71, 123, 38, 72, 59, 82],\n",
    "         [123, 77, 81, 71, 91, 72, 64, 24, 62, 63],\n",
    "         [51, 114, 72, 54, 69, 139, 105, 155, 62],\n",
    "         [70, 25, 22, 52, 90, 56, 105, 16],\n",
    "         [45, 61, 111, 36, 61, 57, 70],\n",
    "         [23, 71, 67, 48, 85, 29],\n",
    "         [74, 89, 69, 107, 36],\n",
    "         [117, 65, 125, 43],\n",
    "         [54, 22, 84],\n",
    "         [60, 44],\n",
    "         [97],\n",
    "         []]\n",
    "\n",
    "# number of nodes\n",
    "n = len(dists)\n",
    "\n",
    "# distances matrix\n",
    "d = [[0 if i == j\n",
    "      else dists[i][j-i-1] if j > i\n",
    "      else dists[j][i-j-1]\n",
    "      for j in range(n)] for i in range(n)]"
   ]
  },
  {
   "cell_type": "code",
   "execution_count": 8,
   "metadata": {},
   "outputs": [
    {
     "data": {
      "text/plain": [
       "<mip.model.Model at 0x258aaad2a10>"
      ]
     },
     "execution_count": 8,
     "metadata": {},
     "output_type": "execute_result"
    }
   ],
   "source": [
    "%%demo Travelling Salesman Problem\n",
    "\n",
    "var bin x = ndarray (n, n)\n",
    "var cont y = ndarray (n)\n",
    "obj min sum (i:=n) (j:=n) d[i][j] * x[i][j]\n",
    "constr forall (i:=n) (sum (j:=n, i != j) x[i][j]) == 1\n",
    "constr forall (i:=n) (sum (j:=n, i != j) x[j][i]) == 1\n",
    "constr forall (i:=n, i != 0) (j:=n, j != 0, i != j) y[i] - (n + 1) * x[i][j] >= y[j] - n"
   ]
  },
  {
   "cell_type": "code",
   "execution_count": 10,
   "metadata": {},
   "outputs": [
    {
     "name": "stdout",
     "output_type": "stream",
     "text": [
      "route with total distance 547.0 found: Antwerp\n",
      " -> Mechelen\n",
      " -> Leuven\n",
      " -> Hasselt\n",
      " -> C-Mine\n",
      " -> Montagne de Bueren\n",
      " -> Remouchamps\n",
      " -> Dinant\n",
      " -> Namur\n",
      " -> Mons\n",
      " -> Waterloo\n",
      " -> Grand-Place de Bruxelles\n",
      " -> Ghent\n",
      " -> Bruges\n",
      " -> Antwerp\n"
     ]
    }
   ],
   "source": [
    "if _.num_solutions:\n",
    "    print(f'route with total distance {_.objective_value} found: {places[0]}')\n",
    "    nc = 0\n",
    "    path = [nc]\n",
    "    while True:\n",
    "        nc = [i for i in range(n) if x[nc][i].x >= 0.99][0]\n",
    "        path.append(nc)\n",
    "        print(f' -> {places[nc]}')\n",
    "        if nc == 0:\n",
    "            break"
   ]
  },
  {
   "cell_type": "markdown",
   "metadata": {},
   "source": [
    "## n-Queens"
   ]
  },
  {
   "cell_type": "code",
   "execution_count": 11,
   "metadata": {},
   "outputs": [],
   "source": [
    "## number of queens\n",
    "n = 40"
   ]
  },
  {
   "cell_type": "code",
   "execution_count": 12,
   "metadata": {},
   "outputs": [
    {
     "data": {
      "text/plain": [
       "<mip.model.Model at 0x258aab02d70>"
      ]
     },
     "execution_count": 12,
     "metadata": {},
     "output_type": "execute_result"
    }
   ],
   "source": [
    "%%demo n-queens\n",
    "\n",
    "var bin x = ndarray(n, n)\n",
    "constr forall (i:=n) (sum (j:=n) x[i][j]) == 1\n",
    "constr forall (j:=n) (sum (i:=n) x[i][j]) == 1\n",
    "constr forall (k:=2-n:n-2) (sum (i:=n, 0 <= i - k, i - k < n) x[i][i - k]) <= 1\n",
    "constr forall (k:=1:2*n-3) (sum (i:=n, 0 <= k - i, k - i < n) x[i][k - i]) <= 1"
   ]
  },
  {
   "cell_type": "code",
   "execution_count": 14,
   "metadata": {},
   "outputs": [
    {
     "name": "stdout",
     "output_type": "stream",
     "text": [
      "Number of solutions: 1\n",
      " .  .  .  .  .  .  .  .  .  .  .  .  .  .  .  .  .  .  .  .  .  .  .  O  .  .  .  .  .  .  .  .  .  .  .  .  .  .  .  . \n",
      " .  .  .  .  .  .  .  .  .  .  .  .  .  .  .  .  .  .  O  .  .  .  .  .  .  .  .  .  .  .  .  .  .  .  .  .  .  .  .  . \n",
      " .  .  .  .  .  O  .  .  .  .  .  .  .  .  .  .  .  .  .  .  .  .  .  .  .  .  .  .  .  .  .  .  .  .  .  .  .  .  .  . \n",
      " .  .  .  .  .  .  .  .  O  .  .  .  .  .  .  .  .  .  .  .  .  .  .  .  .  .  .  .  .  .  .  .  .  .  .  .  .  .  .  . \n",
      " .  .  .  .  .  .  .  .  .  .  .  .  .  .  .  .  .  .  .  .  .  .  .  .  .  .  .  .  .  .  .  O  .  .  .  .  .  .  .  . \n",
      " .  .  .  .  .  .  .  .  .  .  .  .  .  .  .  .  .  .  .  .  .  .  .  .  .  .  .  .  .  .  .  .  .  O  .  .  .  .  .  . \n",
      " .  .  .  .  .  .  .  .  .  .  .  .  .  .  .  O  .  .  .  .  .  .  .  .  .  .  .  .  .  .  .  .  .  .  .  .  .  .  .  . \n",
      " .  .  .  .  .  .  .  .  .  .  .  .  .  .  .  .  .  .  .  .  .  .  .  .  .  O  .  .  .  .  .  .  .  .  .  .  .  .  .  . \n",
      " .  .  .  .  .  .  .  .  .  .  .  .  .  .  O  .  .  .  .  .  .  .  .  .  .  .  .  .  .  .  .  .  .  .  .  .  .  .  .  . \n",
      " .  .  .  .  .  .  .  .  .  .  .  .  .  .  .  .  O  .  .  .  .  .  .  .  .  .  .  .  .  .  .  .  .  .  .  .  .  .  .  . \n",
      " .  .  .  .  .  .  .  .  .  .  .  .  .  .  .  .  .  .  .  .  .  .  .  .  .  .  O  .  .  .  .  .  .  .  .  .  .  .  .  . \n",
      " .  .  .  .  .  .  .  .  .  .  .  .  .  .  .  .  .  .  .  .  .  .  .  .  .  .  .  .  .  .  .  .  .  .  .  .  .  O  .  . \n",
      " .  .  .  .  .  .  .  .  .  .  .  .  .  .  .  .  .  .  .  .  .  .  .  .  .  .  .  O  .  .  .  .  .  .  .  .  .  .  .  . \n",
      " .  .  .  .  O  .  .  .  .  .  .  .  .  .  .  .  .  .  .  .  .  .  .  .  .  .  .  .  .  .  .  .  .  .  .  .  .  .  .  . \n",
      " .  .  .  .  .  .  .  .  .  .  O  .  .  .  .  .  .  .  .  .  .  .  .  .  .  .  .  .  .  .  .  .  .  .  .  .  .  .  .  . \n",
      " .  .  .  .  .  .  .  .  .  .  .  .  .  O  .  .  .  .  .  .  .  .  .  .  .  .  .  .  .  .  .  .  .  .  .  .  .  .  .  . \n",
      " .  .  O  .  .  .  .  .  .  .  .  .  .  .  .  .  .  .  .  .  .  .  .  .  .  .  .  .  .  .  .  .  .  .  .  .  .  .  .  . \n",
      " .  .  .  .  .  .  .  .  .  .  .  .  .  .  .  .  .  .  .  .  .  .  .  .  .  .  .  .  .  .  .  .  .  .  .  .  O  .  .  . \n",
      " .  .  .  .  .  .  .  .  .  .  .  .  .  .  .  .  .  .  .  .  .  .  .  .  .  .  .  .  .  .  .  .  .  .  .  .  .  .  O  . \n",
      " .  .  .  .  .  .  .  .  .  .  .  .  .  .  .  .  .  .  .  .  .  O  .  .  .  .  .  .  .  .  .  .  .  .  .  .  .  .  .  . \n",
      " .  .  .  .  .  .  .  .  .  .  .  .  .  .  .  .  .  .  .  .  .  .  .  .  .  .  .  .  .  .  .  .  O  .  .  .  .  .  .  . \n",
      " .  .  .  .  .  .  .  .  .  .  .  .  .  .  .  .  .  .  .  .  .  .  .  .  .  .  .  .  .  .  .  .  .  .  O  .  .  .  .  . \n",
      " .  .  .  .  .  .  .  .  .  .  .  .  .  .  .  .  .  .  .  .  .  .  O  .  .  .  .  .  .  .  .  .  .  .  .  .  .  .  .  . \n",
      " .  .  .  .  .  .  .  O  .  .  .  .  .  .  .  .  .  .  .  .  .  .  .  .  .  .  .  .  .  .  .  .  .  .  .  .  .  .  .  . \n",
      " .  .  .  .  .  .  .  .  .  .  .  .  .  .  .  .  .  .  .  .  .  .  .  .  .  .  .  .  .  .  .  .  .  .  .  O  .  .  .  . \n",
      " .  .  .  .  .  .  .  .  .  .  .  .  .  .  .  .  .  .  .  .  .  .  .  .  .  .  .  .  .  O  .  .  .  .  .  .  .  .  .  . \n",
      " .  .  .  O  .  .  .  .  .  .  .  .  .  .  .  .  .  .  .  .  .  .  .  .  .  .  .  .  .  .  .  .  .  .  .  .  .  .  .  . \n",
      " .  .  .  .  .  .  .  .  .  .  .  .  .  .  .  .  .  .  .  .  O  .  .  .  .  .  .  .  .  .  .  .  .  .  .  .  .  .  .  . \n",
      " .  .  .  .  .  .  .  .  .  O  .  .  .  .  .  .  .  .  .  .  .  .  .  .  .  .  .  .  .  .  .  .  .  .  .  .  .  .  .  . \n",
      " .  .  .  .  .  .  .  .  .  .  .  .  .  .  .  .  .  .  .  .  .  .  .  .  .  .  .  .  O  .  .  .  .  .  .  .  .  .  .  . \n",
      " .  .  .  .  .  .  .  .  .  .  .  .  O  .  .  .  .  .  .  .  .  .  .  .  .  .  .  .  .  .  .  .  .  .  .  .  .  .  .  . \n",
      " O  .  .  .  .  .  .  .  .  .  .  .  .  .  .  .  .  .  .  .  .  .  .  .  .  .  .  .  .  .  .  .  .  .  .  .  .  .  .  . \n",
      " .  .  .  .  .  .  .  .  .  .  .  O  .  .  .  .  .  .  .  .  .  .  .  .  .  .  .  .  .  .  .  .  .  .  .  .  .  .  .  . \n",
      " .  O  .  .  .  .  .  .  .  .  .  .  .  .  .  .  .  .  .  .  .  .  .  .  .  .  .  .  .  .  .  .  .  .  .  .  .  .  .  . \n",
      " .  .  .  .  .  .  .  .  .  .  .  .  .  .  .  .  .  O  .  .  .  .  .  .  .  .  .  .  .  .  .  .  .  .  .  .  .  .  .  . \n",
      " .  .  .  .  .  .  O  .  .  .  .  .  .  .  .  .  .  .  .  .  .  .  .  .  .  .  .  .  .  .  .  .  .  .  .  .  .  .  .  . \n",
      " .  .  .  .  .  .  .  .  .  .  .  .  .  .  .  .  .  .  .  .  .  .  .  .  .  .  .  .  .  .  O  .  .  .  .  .  .  .  .  . \n",
      " .  .  .  .  .  .  .  .  .  .  .  .  .  .  .  .  .  .  .  .  .  .  .  .  O  .  .  .  .  .  .  .  .  .  .  .  .  .  .  . \n",
      " .  .  .  .  .  .  .  .  .  .  .  .  .  .  .  .  .  .  .  .  .  .  .  .  .  .  .  .  .  .  .  .  .  .  .  .  .  .  .  O \n",
      " .  .  .  .  .  .  .  .  .  .  .  .  .  .  .  .  .  .  .  O  .  .  .  .  .  .  .  .  .  .  .  .  .  .  .  .  .  .  .  . \n"
     ]
    }
   ],
   "source": [
    "print(f'Number of solutions: {_.num_solutions}')\n",
    "if _.num_solutions:\n",
    "    for i, v in enumerate(_.vars):\n",
    "        print(' O ' if v.x >= 0.99 else ' . ', end='')\n",
    "        if i % n == n-1:\n",
    "            print('')"
   ]
  },
  {
   "cell_type": "markdown",
   "metadata": {},
   "source": [
    "## Frequency Assignment"
   ]
  },
  {
   "cell_type": "code",
   "execution_count": 15,
   "metadata": {},
   "outputs": [],
   "source": [
    "from itertools import product\n",
    "\n",
    "# number of channels per node\n",
    "r = [3, 5, 8, 3, 6, 5, 7, 3]\n",
    "\n",
    "# distance between channels in the same node (i, i) and in adjacent nodes\n",
    "#      0  1  2  3  4  5  6  7\n",
    "d = [[3, 2, 0, 0, 2, 2, 0, 0],   # 0\n",
    "     [2, 3, 2, 0, 0, 2, 2, 0],   # 1\n",
    "     [0, 2, 3, 0, 0, 0, 3, 0],   # 2\n",
    "     [0, 0, 0, 3, 2, 0, 0, 2],   # 3\n",
    "     [2, 0, 0, 2, 3, 2, 0, 0],   # 4\n",
    "     [2, 2, 0, 0, 2, 3, 2, 0],   # 5\n",
    "     [0, 2, 2, 0, 0, 2, 3, 0],   # 6\n",
    "     [0, 0, 0, 2, 0, 0, 0, 3]]   # 7\n",
    "\n",
    "N = len(r)\n",
    "\n",
    "# in complete applications this upper bound should be obtained from a feasible\n",
    "# solution produced with some heuristic\n",
    "U = sum(d[i][j] for (i, j) in product(range(N), range(N))) + sum(el for el in r)"
   ]
  },
  {
   "cell_type": "code",
   "execution_count": 16,
   "metadata": {},
   "outputs": [
    {
     "data": {
      "text/plain": [
       "<mip.model.Model at 0x258a92551e0>"
      ]
     },
     "execution_count": 16,
     "metadata": {},
     "output_type": "execute_result"
    }
   ],
   "source": [
    "%%demo Frequency Assignment\n",
    "\n",
    "var bin x = ndarray(N, U)\n",
    "var cont z = ndarray(1)\n",
    "obj min z[0]\n",
    "constr forall (i:=N) (sum (c:=U) x[i][c]) == r[i]\n",
    "constr forall (i:=N) (j:=N, i != j) (c1:=U) (c2:=U, c1 <= c2, c2 < c1 + d[i][j]) (x[i][c1] + x[j][c2] <= 1)\n",
    "constr forall (i:=N) (c1:=U) (c2:=U, c1 < c2, c2 < c1 + d[i][i]) (x[i][c1] + x[i][c2] <= 1)\n",
    "constr forall (i:=N) (c:=U) (z[0] >= (c + 1) * x[i][c])"
   ]
  },
  {
   "cell_type": "code",
   "execution_count": 17,
   "metadata": {},
   "outputs": [
    {
     "name": "stdout",
     "output_type": "stream",
     "text": [
      "Channels of node 0: [6, 12, 32]\n",
      "Channels of node 1: [4, 10, 16, 22, 28]\n",
      "Channels of node 2: [2, 8, 14, 20, 26, 32, 37, 40]\n",
      "Channels of node 3: [7, 13, 19]\n",
      "Channels of node 4: [0, 4, 10, 16, 24, 37]\n",
      "Channels of node 5: [2, 8, 14, 20, 26]\n",
      "Channels of node 6: [0, 6, 12, 18, 24, 30, 35]\n",
      "Channels of node 7: [0, 16, 21]\n"
     ]
    }
   ],
   "source": [
    "if _.num_solutions:\n",
    "    for i in range(N):\n",
    "        print('Channels of node %d: %s' % (i, [c for c in range(U) if x[i][c].x >= 0.99]))"
   ]
  },
  {
   "cell_type": "markdown",
   "metadata": {},
   "source": [
    "## Resource Constrained Project Scheduling"
   ]
  },
  {
   "cell_type": "code",
   "execution_count": 18,
   "metadata": {},
   "outputs": [],
   "source": [
    "n = 10\n",
    "p = [0, 3, 2, 5, 4, 2, 3, 4, 2, 4, 6, 0]\n",
    "u = [[0, 0], [5, 1], [0, 4], [1, 4], [1, 3], [3, 2], [3, 1], [2, 4],\n",
    "     [4, 0], [5, 2], [2, 5], [0, 0]]\n",
    "c = [6, 8]\n",
    "X = [0, 0, 0, 1, 1, 2, 2, 3, 4, 4, 5, 5, 6, 6, 7, 8, 9, 10]\n",
    "Y = [1, 2, 3, 4, 5, 9, 10, 8, 6, 7, 9, 10, 8, 9, 8, 11, 11, 11]\n",
    "\n",
    "R = len(c)\n",
    "J = len(p)\n",
    "T = sum(p)"
   ]
  },
  {
   "cell_type": "code",
   "execution_count": 21,
   "metadata": {},
   "outputs": [
    {
     "data": {
      "text/plain": [
       "<mip.model.Model at 0x258a92c57b0>"
      ]
     },
     "execution_count": 21,
     "metadata": {},
     "output_type": "execute_result"
    }
   ],
   "source": [
    "%%demo project scheduling\n",
    "\n",
    "var bin x = ndarray (J, T)\n",
    "obj min (sum (t:=T) t * x[n + 1][t])\n",
    "constr forall (j:=J) (sum (t:=T) x[j][t]) == 1\n",
    "constr forall (r:=R) (t:=T) (sum (j:=J) (t2:=0:t, t2 >= (t - p[j] + 1)) u[j][r] * x[j][t2]) <= c[r]\n",
    "constr forall (j:=X, s:=Y) (sum (t:=T) t * x[s][t] - t * x[j][t]) >= p[j]"
   ]
  },
  {
   "cell_type": "code",
   "execution_count": 24,
   "metadata": {},
   "outputs": [
    {
     "name": "stdout",
     "output_type": "stream",
     "text": [
      "Schedule: \n",
      "Job 0: begins at t=0 and finishes at t=0\n",
      "Job 1: begins at t=0 and finishes at t=3\n",
      "Job 2: begins at t=0 and finishes at t=2\n",
      "Job 3: begins at t=6 and finishes at t=11\n",
      "Job 4: begins at t=3 and finishes at t=7\n",
      "Job 5: begins at t=3 and finishes at t=5\n",
      "Job 6: begins at t=11 and finishes at t=14\n",
      "Job 7: begins at t=7 and finishes at t=11\n",
      "Job 8: begins at t=14 and finishes at t=16\n",
      "Job 9: begins at t=17 and finishes at t=21\n",
      "Job 10: begins at t=11 and finishes at t=17\n",
      "Job 11: begins at t=21 and finishes at t=21\n",
      "Makespan = 21.0\n"
     ]
    }
   ],
   "source": [
    "from itertools import product\n",
    "\n",
    "print(\"Schedule: \")\n",
    "for j, t in product(range(J), range(T)):\n",
    "        if x[j][t].x >= 0.99:\n",
    "            print(\"Job {}: begins at t={} and finishes at t={}\".format(j, t, t+p[j]))\n",
    "print(\"Makespan = {}\".format(_.objective_value))"
   ]
  },
  {
   "cell_type": "markdown",
   "metadata": {},
   "source": [
    "## Job Shop Scheduling Problem"
   ]
  },
  {
   "cell_type": "code",
   "execution_count": 25,
   "metadata": {},
   "outputs": [],
   "source": [
    "n = m = 3\n",
    "times = [[2, 1, 2],\n",
    "         [1, 2, 2],\n",
    "         [1, 2, 1]]\n",
    "M = sum(times[i][j] for i in range(n) for j in range(m))\n",
    "machines = [[2, 0, 1],\n",
    "            [1, 2, 0],\n",
    "            [2, 1, 0]]"
   ]
  },
  {
   "cell_type": "code",
   "execution_count": 26,
   "metadata": {},
   "outputs": [
    {
     "data": {
      "text/plain": [
       "<mip.model.Model at 0x258b473e920>"
      ]
     },
     "execution_count": 26,
     "metadata": {},
     "output_type": "execute_result"
    }
   ],
   "source": [
    "%%demo job scheduling\n",
    "\n",
    "var cont c = ndarray (1)\n",
    "var cont x = ndarray (n, m)\n",
    "var bin y = ndarray (n, n, m)\n",
    "obj min c[0]\n",
    "constr forall (j:=n) (i:=m, i > 0) x[j][machines[j][i]] - x[j][machines[j][i-1]] >= times[j][machines[j][i-1]]\n",
    "constr forall (j:=n) (k:=n, k != j) (i:=m) x[j][i] - x[k][i] + M*y[j][k][i] >= times[k][i]\n",
    "constr forall (j:=n) (k:=n, k != j) (i:=m) x[k][i] - x[j][i] - M*y[j][k][i] >= times[j][i] - M\n",
    "constr forall (j:=n) c[0] - x[j][machines[j][m - 1]] >= times[j][machines[j][m - 1]]"
   ]
  },
  {
   "cell_type": "code",
   "execution_count": 28,
   "metadata": {},
   "outputs": [
    {
     "name": "stdout",
     "output_type": "stream",
     "text": [
      "Completion time:  7.0\n",
      "task 1 starts on machine 1 at time 2 \n",
      "task 1 starts on machine 2 at time 5 \n",
      "task 1 starts on machine 3 at time 0 \n",
      "task 2 starts on machine 1 at time 5 \n",
      "task 2 starts on machine 2 at time 0 \n",
      "task 2 starts on machine 3 at time 3 \n",
      "task 3 starts on machine 1 at time 6 \n",
      "task 3 starts on machine 2 at time 3 \n",
      "task 3 starts on machine 3 at time 2 \n"
     ]
    }
   ],
   "source": [
    "print(\"Completion time: \", c[0].x)\n",
    "for (j, i) in product(range(n), range(m)):\n",
    "    print(\"task %d starts on machine %d at time %g \" % (j+1, i+1, x[j][i].x))"
   ]
  },
  {
   "cell_type": "markdown",
   "metadata": {},
   "source": [
    "## Cutting Stock / One-dimensional Bin Packing Problem"
   ]
  },
  {
   "cell_type": "code",
   "execution_count": 29,
   "metadata": {},
   "outputs": [],
   "source": [
    "n = 10  # maximum number of bars\n",
    "L = 250  # bar length\n",
    "m = 4  # number of requests\n",
    "w = [187, 119, 74, 90]  # size of each item\n",
    "b = [1, 2, 2, 1]  # demand for each item"
   ]
  },
  {
   "cell_type": "code",
   "execution_count": 30,
   "metadata": {},
   "outputs": [
    {
     "data": {
      "text/plain": [
       "<mip.model.Model at 0x258a9285ae0>"
      ]
     },
     "execution_count": 30,
     "metadata": {},
     "output_type": "execute_result"
    }
   ],
   "source": [
    "%%demo cutting stock\n",
    "\n",
    "var int x = ndarray (m, n)\n",
    "var bin y = ndarray (n)\n",
    "obj min sum (i:=n) y[i]\n",
    "constr forall (i:=m) (sum (j:=n) x[i][j]) >= b[i]\n",
    "constr forall (j:=n) (sum (i:=m) w[i] * x[i][j]) <= L * y[j]\n",
    "constr forall (j:=n, j > 0) y[j - 1] >= y[j]"
   ]
  },
  {
   "cell_type": "code",
   "execution_count": 31,
   "metadata": {},
   "outputs": [
    {
     "name": "stdout",
     "output_type": "stream",
     "text": [
      "Objective value: 3.0\n",
      "Solution: x_0_0 = 1.0\n",
      "          x_1_2 = 2.0\n",
      "          x_2_1 = 2.0\n",
      "          x_3_1 = 1.0\n",
      "          y_0 = 1.0\n",
      "          y_1 = 1.0\n",
      "          y_2 = 1.0\n",
      "          "
     ]
    }
   ],
   "source": [
    "print(f'Objective value: {_.objective_value:.3}')\n",
    "print('Solution: ', end='')\n",
    "for v in _.vars:\n",
    "    if v.x > 1e-5:\n",
    "        print(f'{v.name} = {v.x}')\n",
    "        print('          ', end='')"
   ]
  },
  {
   "cell_type": "markdown",
   "metadata": {},
   "source": [
    "## Two-Dimensional Level Packing"
   ]
  },
  {
   "cell_type": "code",
   "execution_count": 33,
   "metadata": {},
   "outputs": [],
   "source": [
    "w = [4, 3, 5, 2, 1, 4, 7, 3]  # widths\n",
    "h = [2, 4, 1, 5, 6, 3, 5, 4]  # heights\n",
    "n = len(w)\n",
    "W = 10"
   ]
  },
  {
   "cell_type": "code",
   "execution_count": 34,
   "metadata": {},
   "outputs": [
    {
     "data": {
      "text/plain": [
       "<mip.model.Model at 0x258b48fbb20>"
      ]
     },
     "execution_count": 34,
     "metadata": {},
     "output_type": "execute_result"
    }
   ],
   "source": [
    "%%demo level packing\n",
    "\n",
    "var bin x = ndarray (n, n)\n",
    "obj min sum (i:=n) h[i] * x[i][i]\n",
    "constr forall (i:=n) (j:=n, h[j] > h[i]) x[i][j] == 0.0\n",
    "constr forall (i:=n) (sum (j:=n, h[j] >= h[i]) x[j][i]) == 1\n",
    "constr forall (i:=n) (sum (j:=n, j != i, h[j] <= h[i]) w[j] * x[i][j]) <= (W - w[i]) * x[i][i]"
   ]
  },
  {
   "cell_type": "code",
   "execution_count": 35,
   "metadata": {},
   "outputs": [
    {
     "name": "stdout",
     "output_type": "stream",
     "text": [
      "Items grouped with 0 : [2]\n",
      "Items grouped with 1 : [5, 7]\n",
      "Items grouped with 4 : [3, 6]\n"
     ]
    }
   ],
   "source": [
    "for i in [j for j in range(n) if x[j][j].x >= 0.99]:\n",
    "    print(\n",
    "        \"Items grouped with {} : {}\".format(\n",
    "            i, [j for j in range(n) if i != j and h[j] <= h[i] and x[i][j].x >= 0.99]\n",
    "        )\n",
    "    )"
   ]
  }
 ],
 "metadata": {
  "kernelspec": {
   "display_name": "venv",
   "language": "python",
   "name": "python3"
  },
  "language_info": {
   "codemirror_mode": {
    "name": "ipython",
    "version": 3
   },
   "file_extension": ".py",
   "mimetype": "text/x-python",
   "name": "python",
   "nbconvert_exporter": "python",
   "pygments_lexer": "ipython3",
   "version": "3.10.7"
  }
 },
 "nbformat": 4,
 "nbformat_minor": 2
}
